{
 "cells": [
  {
   "cell_type": "code",
   "execution_count": 1,
   "metadata": {},
   "outputs": [],
   "source": [
    "import sys\n",
    "sys.path.append(\"/Users/sebastiaanscholten/Documents/speech2image-master/preprocessing\")\n",
    "import os\n",
    "import json\n",
    "import pickle\n",
    "from visual_features import vis_feats\n",
    "from audio_features import audio_features\n",
    "from pathlib import Path\n",
    "import tables\n",
    "import pandas as pd"
   ]
  },
  {
   "cell_type": "code",
   "execution_count": null,
   "metadata": {},
   "outputs": [],
   "source": [
    "def iterate_data(h5_file):\n",
    "    for x in h5_file.root:\n",
    "        yield x\n",
    "path =\"/Users/sebastiaanscholten/Documents/speech2image-master/preprocessing/prep_data/flickr_features_27jan_working_8000.h5\"\n",
    "\n",
    "resnetfeatures = tables.open_file(path, mode=\"r+\")\n",
    "resnetfeatures = [node for node in iterate_data(resnetfeatures)]\n",
    "resnetobjects = pd.DataFrame()\n",
    "\n",
    "for node in resnetfeatures:\n",
    "    filename = node._v_name\n",
    "    objects = sum(node.resnet._f_list_nodes()[0][:])\n",
    "    resnetobjects = resnetobjects.append({\"Filename\":filename,\"Objects\":objects},ignore_index=True)"
   ]
  },
  {
   "cell_type": "code",
   "execution_count": null,
   "metadata": {},
   "outputs": [],
   "source": []
  },
  {
   "cell_type": "code",
   "execution_count": null,
   "metadata": {},
   "outputs": [],
   "source": []
  },
  {
   "cell_type": "code",
   "execution_count": null,
   "metadata": {},
   "outputs": [],
   "source": []
  },
  {
   "cell_type": "code",
   "execution_count": null,
   "metadata": {},
   "outputs": [],
   "source": []
  },
  {
   "cell_type": "code",
   "execution_count": null,
   "metadata": {},
   "outputs": [],
   "source": []
  }
 ],
 "metadata": {
  "kernelspec": {
   "display_name": "Python 3",
   "language": "python",
   "name": "python3"
  },
  "language_info": {
   "codemirror_mode": {
    "name": "ipython",
    "version": 3
   },
   "file_extension": ".py",
   "mimetype": "text/x-python",
   "name": "python",
   "nbconvert_exporter": "python",
   "pygments_lexer": "ipython3",
   "version": "3.7.6"
  }
 },
 "nbformat": 4,
 "nbformat_minor": 2
}
