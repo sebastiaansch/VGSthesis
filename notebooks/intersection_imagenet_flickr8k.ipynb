{
 "cells": [
  {
   "cell_type": "code",
   "execution_count": 1,
   "metadata": {},
   "outputs": [],
   "source": [
    "import sys\n",
    "sys.path.append(\"../\")\n",
    "import nltk\n",
    "import pandas as pd\n",
    "import numpy as np\n",
    "from helper import tokenize, dicttodf\n",
    "import json"
   ]
  },
  {
   "cell_type": "code",
   "execution_count": 2,
   "metadata": {},
   "outputs": [],
   "source": [
    "def intersection(lst1, lst2): \n",
    "    lst3 = [value for value in lst1 if value in lst2] \n",
    "    return lst3 \n",
    "\n",
    "\n",
    "def imagenet_flickr8k_intersection():\n",
    "    path = \"../data/Flickr8k_text/Flickr8k.token.txt\"\n",
    "    wordlist, worddictionary = tokenize(\"../data/Flickr8k_text/Flickr8k.token.txt\")\n",
    "    worddf = dicttodf(worddictionary)\n",
    "    path2 = \"/Users/sebastiaanscholten/Documents/speech2image-master/vgsexperiments/experiments/data/imagenet_class_index.json\"\n",
    "\n",
    "    with open(path2,\"r\") as json_file:\n",
    "        data = json.load(json_file)\n",
    "        \n",
    "    wordlist1 = list(worddf[\"words\"])\n",
    "    wordlist2 = []\n",
    "    for words in data.values():\n",
    "        wordlist2.append(words[1])\n",
    "\n",
    "    return intersection(wordlist1,wordlist2)"
   ]
  },
  {
   "cell_type": "code",
   "execution_count": 3,
   "metadata": {},
   "outputs": [],
   "source": [
    "x = imagenet_flickr8k_intersection()"
   ]
  },
  {
   "cell_type": "code",
   "execution_count": null,
   "metadata": {},
   "outputs": [],
   "source": []
  },
  {
   "cell_type": "code",
   "execution_count": null,
   "metadata": {},
   "outputs": [],
   "source": []
  },
  {
   "cell_type": "code",
   "execution_count": null,
   "metadata": {},
   "outputs": [],
   "source": []
  },
  {
   "cell_type": "code",
   "execution_count": null,
   "metadata": {},
   "outputs": [],
   "source": []
  },
  {
   "cell_type": "code",
   "execution_count": null,
   "metadata": {},
   "outputs": [],
   "source": []
  },
  {
   "cell_type": "code",
   "execution_count": null,
   "metadata": {},
   "outputs": [],
   "source": []
  },
  {
   "cell_type": "code",
   "execution_count": null,
   "metadata": {},
   "outputs": [],
   "source": []
  },
  {
   "cell_type": "code",
   "execution_count": null,
   "metadata": {},
   "outputs": [],
   "source": []
  }
 ],
 "metadata": {
  "kernelspec": {
   "display_name": "Python 3",
   "language": "python",
   "name": "python3"
  },
  "language_info": {
   "codemirror_mode": {
    "name": "ipython",
    "version": 3
   },
   "file_extension": ".py",
   "mimetype": "text/x-python",
   "name": "python",
   "nbconvert_exporter": "python",
   "pygments_lexer": "ipython3",
   "version": "3.7.6"
  }
 },
 "nbformat": 4,
 "nbformat_minor": 2
}
